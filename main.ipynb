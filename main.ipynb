{
 "cells": [
  {
   "cell_type": "markdown",
   "id": "470b1378",
   "metadata": {},
   "source": [
    "## Import libraries"
   ]
  },
  {
   "cell_type": "code",
   "execution_count": 1,
   "id": "still-mason",
   "metadata": {},
   "outputs": [
    {
     "name": "stderr",
     "output_type": "stream",
     "text": [
      "2022-09-14 11:04:31.501077: I tensorflow/core/platform/cpu_feature_guard.cc:193] This TensorFlow binary is optimized with oneAPI Deep Neural Network Library (oneDNN) to use the following CPU instructions in performance-critical operations:  AVX2 FMA\n",
      "To enable them in other operations, rebuild TensorFlow with the appropriate compiler flags.\n"
     ]
    }
   ],
   "source": [
    "# Important: Make sure to: $conda activate latent_deeponet before running this script!!\n",
    "import keras\n",
    "import numpy as np\n",
    "import matplotlib.pyplot as plt\n",
    "from IPython import get_ipython\n",
    "get_ipython().run_line_magic('matplotlib', 'inline')\n",
    "import pandas as pd\n",
    "import seaborn as sns\n",
    "import glob\n",
    "import sys\n",
    "from plot import errors_ae_don, violin_plots"
   ]
  },
  {
   "cell_type": "markdown",
   "id": "8b0d9424",
   "metadata": {},
   "source": [
    "## Run latent DeepONet"
   ]
  },
  {
   "cell_type": "code",
   "execution_count": null,
   "id": "attempted-injection",
   "metadata": {},
   "outputs": [
    {
     "name": "stdout",
     "output_type": "stream",
     "text": [
      "Running CAE...\n",
      "WARNING:tensorflow:From /Users/katianakontolati/PycharmProjects/Codes-for-papers/Latent-DeepONet/Latent_DeepONet/Dimension_reduction/AE.py:88: The name tf.keras.backend.set_session is deprecated. Please use tf.compat.v1.keras.backend.set_session instead.\n",
      "\n",
      "Seed number: 316\n",
      "Autoencoder training in progress...\n"
     ]
    }
   ],
   "source": [
    "latent_dim = [49,64,81,100]\n",
    "method = ['CAE']\n",
    "n_epochs_ae, n_epochs_don = [500], [1500]\n",
    "bs_ae, bs_don = [64], [20]\n",
    "reps = 5\n",
    "\n",
    "# Run code for all methods and all latent dimensions\n",
    "for j in range(len(latent_dim)):\n",
    "    for k in range(len(method)):\n",
    "\n",
    "        print('Running ' + str(method[k]) + '...')\n",
    "        for i in range(reps):\n",
    "            %run -i AE.py --method {method[k]} --latent_dim {latent_dim[j]} --n_samples 800 --n_epochs {n_epochs_ae[k]} --bs {bs_ae[k]}\n",
    "            %run -i DON.py --method {method[k]} --latent_dim {latent_dim[j]} --n_samples 800 --n_epochs {n_epochs_don[k]} --bs {bs_don[k]}   "
   ]
  },
  {
   "cell_type": "code",
   "execution_count": null,
   "id": "ee29f639",
   "metadata": {},
   "outputs": [],
   "source": [
    "### Create final plots\n",
    "pd_df_AE, pd_df_DON, _, _ = errors_ae_don(latent_dim=latent_dim, method=method, reps=5)\n",
    "violin_plots(method=method, pd_df_AE=pd_df_AE, pd_df_DON=pd_df_DON, save=True)"
   ]
  },
  {
   "cell_type": "code",
   "execution_count": null,
   "id": "029c3f76",
   "metadata": {},
   "outputs": [],
   "source": []
  },
  {
   "cell_type": "code",
   "execution_count": null,
   "id": "608784eb",
   "metadata": {},
   "outputs": [],
   "source": []
  },
  {
   "cell_type": "code",
   "execution_count": null,
   "id": "325c63b6",
   "metadata": {},
   "outputs": [],
   "source": []
  },
  {
   "cell_type": "code",
   "execution_count": null,
   "id": "bd8ec644",
   "metadata": {},
   "outputs": [],
   "source": []
  },
  {
   "cell_type": "code",
   "execution_count": null,
   "id": "836a6c55",
   "metadata": {},
   "outputs": [],
   "source": []
  }
 ],
 "metadata": {
  "kernelspec": {
   "display_name": "Python 3 (ipykernel)",
   "language": "python",
   "name": "python3"
  },
  "language_info": {
   "codemirror_mode": {
    "name": "ipython",
    "version": 3
   },
   "file_extension": ".py",
   "mimetype": "text/x-python",
   "name": "python",
   "nbconvert_exporter": "python",
   "pygments_lexer": "ipython3",
   "version": "3.8.13"
  }
 },
 "nbformat": 4,
 "nbformat_minor": 5
}
